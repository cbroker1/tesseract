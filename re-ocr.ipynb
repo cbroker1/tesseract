{
 "cells": [
  {
   "cell_type": "markdown",
   "metadata": {},
   "source": [
    "### Youtube narration of project: https://www.youtube.com/watch?v=ZXbiZssiKUg"
   ]
  },
  {
   "cell_type": "markdown",
   "metadata": {},
   "source": [
    "- 1. Research Question and Background Information\n",
    "- 2.1 Gather full path of pdfs.\n",
    "    - 2.2 Create custom index of pdfs.\n",
    "- 3.1 Extract original OCR and Tesseract OCR of pdf.\n",
    "    - 3.2 Split output by page break.\n",
    "    - 3.3 Add hyperlink colum to split output.\n",
    "- 4.1 Variable Definitions\n",
    "- 5.1 Variable Summary Statistics\n",
    "- 6.1 Visualization of a dependent variable\n",
    "- 7.1 Visualization summary\n",
    "- 8.1 Visualization of a independent variable\n",
    "- 9.1 Visualization summary 2\n",
    "- 10.1 Bivariate relationship\n",
    "- 11.1 Visualization sumamry 3\n",
    "- 12.1 Regresssion Analysis\n",
    "- 13.1 Control variable justification\n",
    "- 14.1 Interpret the independent bivariate variable\n",
    "- 15.1 Interpret the independent multivariate variable\n",
    "- 16.1 Conduct a hypothesis test\n",
    "- 17.1 Overall findings\n",
    "- 18.1 Closing thoughts"
   ]
  },
  {
   "cell_type": "markdown",
   "metadata": {},
   "source": [
    "<a id='1.'></a>\n",
    "### 1. Research Question and Background Information"
   ]
  },
  {
   "cell_type": "markdown",
   "metadata": {},
   "source": [
    "2. The objective of this final project was to build a scalable tool to extract the original optical character recognition (OCR) embedded in a pdf, to also implement the Tesseract Long Short Term Memory (LSTM) Recurrent Neural Network (RNN) OCR on the same pdf, and then finally package both results into a useable csv format for downstream classification work. \n",
    "\n",
    "To complete the above I spent a significant amount of time identifying the proper tools, setting up my environment and optimizing for both horizontal and vertical scalability in my scripting architecture. With that aside the code itself is quite simple, via the utilization of package APIs. \n",
    "\n",
    "I commented my code with the intent that a naive natural language processing scientist (a potential employer) may digest my work.\n",
    "\n",
    "The package documentation that made my project possible:\n",
    "- Tesseract (open-source OCR software, in C++) - https://tesseract-ocr.github.io/tessdoc/#tesseract-user-manual\n",
    "- pytesseract (Tesseract wrapper for python) - https://github.com/madmaze/pytesseract\n",
    "- PyPDF2DF2 (pdf reader to extract original ocr) - https://pythonhosted.org/PyPDF2DF2/\n",
    "- fitz (pdf reader to convert pdfs to pngs) - https://pymupdf.readthedocs.io/en/latest/\n",
    "- tqdm (progress bar to monitor processing progress) - https://tqdm.github.io/\n",
    "- pandas (packaging data) - https://pandas.pydata.org/docs/\n",
    "\n",
    "3. The dataset I will be using is from a small github repo - https://github.com/miollek/Free-Database-Books\n"
   ]
  },
  {
   "cell_type": "code",
   "execution_count": 2,
   "metadata": {},
   "outputs": [],
   "source": [
    "#import packages\n",
    "import os\n",
    "import PyPDF2\n",
    "import traceback\n",
    "import pandas as pd\n",
    "from tqdm import tqdm\n",
    "import pytesseract\n",
    "import fitz"
   ]
  },
  {
   "cell_type": "markdown",
   "metadata": {},
   "source": [
    "<a id='2.1'></a>\n",
    "### 2.1. Gather full path of every pdf. "
   ]
  },
  {
   "cell_type": "markdown",
   "metadata": {},
   "source": [
    "In this section below I walk through the defined directory, and subdirectories, searching for pdfs. Once found, I append the full path of the pdf (including filename) into a list. \n",
    "\n",
    "The function below by design may handle any folder structure.  "
   ]
  },
  {
   "cell_type": "code",
   "execution_count": 2,
   "metadata": {},
   "outputs": [],
   "source": [
    "#set constants:\n",
    "dirName = r'D:\\fast_envs\\pytorch_gpu2\\Free-Database-Books-master'"
   ]
  },
  {
   "cell_type": "code",
   "execution_count": 3,
   "metadata": {},
   "outputs": [
    {
     "name": "stderr",
     "output_type": "stream",
     "text": [
      "  0%|          | 0/1 [00:00<?, ?it/s]\n",
      "\u001b[A\n",
      "\n",
      "\u001b[A\u001b[A\n",
      "\n",
      "\n",
      "100%|██████████| 1/1 [00:00<?, ?it/s]\n",
      "100%|██████████| 2/2 [00:00<00:00, 668.41it/s]\n",
      "100%|██████████| 23/23 [00:00<00:00, 2883.03it/s]\n",
      "100%|██████████| 2/2 [00:00<00:00, 200.53it/s]\n",
      "100%|██████████| 1/1 [00:00<00:00, 83.55it/s]\n"
     ]
    }
   ],
   "source": [
    "#get list of all .pdfs in dirName\n",
    "def getListOfFiles(dirName):\n",
    "    # create a list of pdf files and their full path\n",
    "    listOfFile = os.listdir(dirName)\n",
    "    allFiles = list()\n",
    "       \n",
    "    # Iterate over all the entries\n",
    "    for entry in tqdm(listOfFile):\n",
    "        # Create full path\n",
    "        fullPath = os.path.join(dirName, entry)\n",
    "        # If entry is a directory then get the list of files in this directory \n",
    "        if os.path.isdir(fullPath):\n",
    "            allFiles = allFiles + getListOfFiles(fullPath)\n",
    "        else:\n",
    "            #append results to metadata lists\n",
    "            if fullPath.endswith('.pdf'):\n",
    "                fullPath = fullPath.replace('\\\\', '/')#fix formatting\n",
    "                allFiles.append(fullPath) #send to list\n",
    "    return allFiles\n",
    "\n",
    "pdf_dirs = getListOfFiles(dirName)"
   ]
  },
  {
   "cell_type": "code",
   "execution_count": 4,
   "metadata": {},
   "outputs": [
    {
     "data": {
      "text/plain": [
       "['D:/fast_envs/pytorch_gpu2/Free-Database-Books-master/Free-Database-Books-master/book/Graph Databases.pdf',\n",
       " 'D:/fast_envs/pytorch_gpu2/Free-Database-Books-master/Free-Database-Books-master/book/Learning Azure DocumentDB.pdf',\n",
       " 'D:/fast_envs/pytorch_gpu2/Free-Database-Books-master/Free-Database-Books-master/book/Learning Neo4j.pdf',\n",
       " 'D:/fast_envs/pytorch_gpu2/Free-Database-Books-master/Free-Database-Books-master/book/Learning PostgreSQL.pdf',\n",
       " 'D:/fast_envs/pytorch_gpu2/Free-Database-Books-master/Free-Database-Books-master/book/Microsoft SQL Azure Enterprise Application Development.pdf',\n",
       " 'D:/fast_envs/pytorch_gpu2/Free-Database-Books-master/Free-Database-Books-master/book/Microsoft SQL Server 2012 Integration Services - An Expert Cookbook.pdf',\n",
       " 'D:/fast_envs/pytorch_gpu2/Free-Database-Books-master/Free-Database-Books-master/book/MongoDB Basics.pdf',\n",
       " 'D:/fast_envs/pytorch_gpu2/Free-Database-Books-master/Free-Database-Books-master/book/MySQL for Python.pdf',\n",
       " 'D:/fast_envs/pytorch_gpu2/Free-Database-Books-master/Free-Database-Books-master/book/New folder/Creating your MySQL Database - Practical Design Tips and Techniques.pdf',\n",
       " 'D:/fast_envs/pytorch_gpu2/Free-Database-Books-master/Free-Database-Books-master/book/New folder/New folder/Mastering RethinkDB.pdf']"
      ]
     },
     "execution_count": 4,
     "metadata": {},
     "output_type": "execute_result"
    }
   ],
   "source": [
    "#inspet results\n",
    "pdf_dirs[:10]"
   ]
  },
  {
   "cell_type": "markdown",
   "metadata": {},
   "source": [
    "<a id='2.2'></a>\n",
    "### 2.2 Create custom index of pdfs."
   ]
  },
  {
   "cell_type": "markdown",
   "metadata": {},
   "source": [
    "The objective of this section is to generate a custom index to use as a primary key in the final output. Such a key would be useful in joining tables, such as classification work, and raw files. "
   ]
  },
  {
   "cell_type": "code",
   "execution_count": 5,
   "metadata": {},
   "outputs": [],
   "source": [
    "#made custom index for pdf_dir\n",
    "def custom_index(pdf_dirs):\n",
    "    pdf_id = [] #empty list\n",
    "    id = 0 #base id\n",
    "    for dir in pdf_dirs: #loop through dirs and set unique id\n",
    "        id += 1 \n",
    "        new_id = \"C\"+str(id)\n",
    "        pdf_id.append(new_id)\n",
    "    return pdf_id\n",
    "\n",
    "pdf_id = custom_index(pdf_dirs)"
   ]
  },
  {
   "cell_type": "code",
   "execution_count": 6,
   "metadata": {},
   "outputs": [
    {
     "data": {
      "text/plain": [
       "['C1', 'C2', 'C3', 'C4', 'C5', 'C6', 'C7', 'C8', 'C9', 'C10']"
      ]
     },
     "execution_count": 6,
     "metadata": {},
     "output_type": "execute_result"
    }
   ],
   "source": [
    "#inspect pdf_id\n",
    "pdf_id[:10]"
   ]
  },
  {
   "cell_type": "markdown",
   "metadata": {},
   "source": [
    "<a id='3.1.'></a>\n",
    "### 3.1 Extract Original and Tesseract OCR."
   ]
  },
  {
   "cell_type": "markdown",
   "metadata": {},
   "source": [
    "This is the meat of the project, where I extract the pdf contents and package it into a csv. \n",
    "\n",
    "It runs as follows:\n",
    "1) attempt to open pdf, if for any reason fails, print error in terminal.\n",
    "2) get page length of pdf\n",
    "3) extract original ocr (old_ocr) and Tesseract ocr (new_ocr) up to 10 pages. \n",
    "4) append results to csv.\n",
    "\n",
    "It is worth mentioning that accuracy enhancements were made in the new_ocr extraction via the function fitz.Matrix(x,y). I increased the pixel density of the pdf->png conversion by 4. This enhancement was achieved via pure trial-and-error. To go any higher than for obtains negligible increases in accuracy, and as a byproduct unnecessarily increases processing runtime.\n",
    "\n",
    "Also worth mentioning, with regards to overall function architecture, I decided to append results to the csv on a file-by-file basis to ensure that work isn't lost when running at scale (at thousands of pdfs). During development I came across some pdfs that would not error-out, causing my for-loop to infinitely hang. I could not find the reason for this and changed my code as a result. "
   ]
  },
  {
   "cell_type": "code",
   "execution_count": 7,
   "metadata": {},
   "outputs": [],
   "source": [
    "#pass index and pdf through ocr extractor, and append results to csv\n",
    "def getListOfOCR(pdf_id, pdf_dirs):\n",
    "    #call tesseract instance\n",
    "    pytesseract.pytesseract.tesseract_cmp = r\"C:\\Program Files (x86)\\Tesseract-OCR\\tesseract.exe\"\n",
    "\n",
    "    #open pdf, search all pages, append results to list\n",
    "    for ID, item in tqdm(zip(pdf_id, pdf_dirs)):\n",
    "        \n",
    "        C_ID = ID\n",
    "        dir = item\n",
    "        myText_old = None\n",
    "        myText_new = None\n",
    "\n",
    "        try: \n",
    "            pdf = PyPDF2.PdfFileReader(item, strict=False) #open pdf\n",
    "            doc = fitz.open(dir) #open pdf\n",
    "            numPages = pdf.getNumPages() #get page number\n",
    "\n",
    "            #read first page of old ocr, extract text and add Carl's custom pagebreak\n",
    "            pageObj = pdf.getPage(0)\n",
    "            myText_old = pageObj.extractText()\n",
    "            myText_old = myText_old + '_OldPageBreak_'\n",
    "            \n",
    "            #read first page of new ocr, extract text, and add Carl's custom pagebreak\n",
    "            page = doc.load_page(0) #access specific page\n",
    "            pix = page.get_pixmap(matrix = (fitz.Matrix(4,4))) #getpixel map of page\n",
    "            filename = '{}{}{}'.format('temp_img_', 0, '.png') \n",
    "            pix.save(filename) #write page to png, save\n",
    "            myText_new = pytesseract.image_to_string(filename) #re-OCR with tesseract and save output to string, LSTM RNN by default. \n",
    "            myText_new = myText_new + \"_NewPageBreak_\"\n",
    "            os.remove(filename) #delete png #new ocr\n",
    "\n",
    "            #page 1\n",
    "            if numPages > 1:\n",
    "                pageObj = pdf.getPage(1)#read page\n",
    "                \n",
    "                #old ocr \n",
    "                myText_old = myText_old + pageObj.extractText()\n",
    "                myText_old = myText_old + \"_OldPageBreak_\"\n",
    "                \n",
    "                #new ocr\n",
    "                page = doc.load_page(1) #access specific page\n",
    "                pix = page.get_pixmap(matrix = (fitz.Matrix(4,4))) #getpixel map of page\n",
    "                filename = '{}{}{}'.format('temp_img_', 1, '.png') \n",
    "                pix.save(filename) #write page to png, save\n",
    "                myText_new = myText_new + pytesseract.image_to_string(filename) #re-OCR and save output to string \n",
    "                myText_new = myText_new + \"_NewPageBreak_\"\n",
    "                os.remove(filename) #delete png \n",
    "\n",
    "            #page 2\n",
    "            if numPages > 2:\n",
    "                pageObj = pdf.getPage(2)#read page\n",
    "                \n",
    "                #old ocr \n",
    "                myText_old = myText_old + pageObj.extractText()\n",
    "                myText_old = myText_old + \"_OldPageBreak_\"\n",
    "                \n",
    "                #new ocr\n",
    "                page = doc.load_page(2) #access specific page\n",
    "                pix = page.get_pixmap(matrix = (fitz.Matrix(4,4))) #getpixel map of page\n",
    "                filename = '{}{}{}'.format('temp_img_', 2, '.png') \n",
    "                pix.save(filename) #write page to png, save\n",
    "                myText_new = myText_new + pytesseract.image_to_string(filename) #re-OCR and save output to string \n",
    "                myText_new = myText_new + \"_NewPageBreak_\"\n",
    "                os.remove(filename) #delete png \n",
    "\n",
    "            #page 3\n",
    "            if numPages > 3:\n",
    "                pageObj = pdf.getPage(3)#read page\n",
    "                \n",
    "                #old ocr \n",
    "                myText_old = myText_old + pageObj.extractText()\n",
    "                myText_old = myText_old + \"_OldPageBreak_\"\n",
    "                \n",
    "                #new ocr\n",
    "                page = doc.load_page(3) #access specific page\n",
    "                pix = page.get_pixmap(matrix = (fitz.Matrix(4,4))) #getpixel map of page\n",
    "                filename = '{}{}{}'.format('temp_img_', 3, '.png') \n",
    "                pix.save(filename) #write page to png, save\n",
    "                myText_new = myText_new + pytesseract.image_to_string(filename) #re-OCR and save output to string \n",
    "                myText_new = myText_new + \"_NewPageBreak_\"\n",
    "                os.remove(filename) #delete png  \n",
    "            \n",
    "            #page 4\n",
    "            if numPages > 4:\n",
    "                pageObj = pdf.getPage(4)#read page\n",
    "                \n",
    "                #old ocr \n",
    "                myText_old = myText_old + pageObj.extractText()\n",
    "                myText_old = myText_old + \"_OldPageBreak_\"\n",
    "                \n",
    "                #new ocr\n",
    "                page = doc.load_page(4) #access specific page\n",
    "                pix = page.get_pixmap(matrix = (fitz.Matrix(4,4))) #getpixel map of page\n",
    "                filename = '{}{}{}'.format('temp_img_', 4, '.png') \n",
    "                pix.save(filename) #write page to png, save\n",
    "                myText_new = myText_new + pytesseract.image_to_string(filename) #re-OCR and save output to string \n",
    "                myText_new = myText_new + \"_NewPageBreak_\"\n",
    "                os.remove(filename) #delete png\n",
    "\n",
    "            #page 5\n",
    "            if numPages > 5:\n",
    "                pageObj = pdf.getPage(5)#read page\n",
    "                \n",
    "                #old ocr \n",
    "                myText_old = myText_old + pageObj.extractText()\n",
    "                myText_old = myText_old + \"_OldPageBreak_\"\n",
    "                \n",
    "                #new ocr\n",
    "                page = doc.load_page(5) #access specific page\n",
    "                pix = page.get_pixmap(matrix = (fitz.Matrix(4,4))) #getpixel map of page\n",
    "                filename = '{}{}{}'.format('temp_img_', 5, '.png') \n",
    "                pix.save(filename) #write page to png, save\n",
    "                myText_new = myText_new + pytesseract.image_to_string(filename) #re-OCR and save output to string \n",
    "                myText_new = myText_new + \"_NewPageBreak_\"\n",
    "                os.remove(filename) #delete png\n",
    "            \n",
    "            #page 6\n",
    "            if numPages > 6:\n",
    "                pageObj = pdf.getPage(6)#read page\n",
    "                \n",
    "                #old ocr \n",
    "                myText_old = myText_old + pageObj.extractText()\n",
    "                myText_old = myText_old + \"_OldPageBreak_\"\n",
    "                \n",
    "                #new ocr\n",
    "                page = doc.load_page(6) #access specific page\n",
    "                pix = page.get_pixmap(matrix = (fitz.Matrix(4,4))) #getpixel map of page\n",
    "                filename = '{}{}{}'.format('temp_img_', 6, '.png') \n",
    "                pix.save(filename) #write page to png, save\n",
    "                myText_new = myText_new + pytesseract.image_to_string(filename) #re-OCR and save output to string \n",
    "                myText_new = myText_new + \"_NewPageBreak_\"\n",
    "                os.remove(filename) #delete png\n",
    "\n",
    "            #page 7\n",
    "            if numPages > 7:\n",
    "                pageObj = pdf.getPage(7)#read page\n",
    "                \n",
    "                #old ocr \n",
    "                myText_old = myText_old + pageObj.extractText()\n",
    "                myText_old = myText_old + \"_OldPageBreak_\"\n",
    "                \n",
    "                #new ocr\n",
    "                page = doc.load_page(7) #access specific page\n",
    "                pix = page.get_pixmap(matrix = (fitz.Matrix(4,4))) #getpixel map of page\n",
    "                filename = '{}{}{}'.format('temp_img_', 7, '.png') \n",
    "                pix.save(filename) #write page to png, save\n",
    "                myText_new = myText_new + pytesseract.image_to_string(filename) #re-OCR and save output to string \n",
    "                myText_new = myText_new + \"_NewPageBreak_\"\n",
    "                os.remove(filename) #delete png\n",
    "            \n",
    "            #page 8\n",
    "            if numPages > 8:\n",
    "                pageObj = pdf.getPage(8)#read page\n",
    "                \n",
    "                #old ocr \n",
    "                myText_old = myText_old + pageObj.extractText()\n",
    "                myText_old = myText_old + \"_OldPageBreak_\"\n",
    "                \n",
    "                #new ocr\n",
    "                page = doc.load_page(8) #access specific page\n",
    "                pix = page.get_pixmap(matrix = (fitz.Matrix(4,4))) #getpixel map of page\n",
    "                filename = '{}{}{}'.format('temp_img_', 8, '.png') \n",
    "                pix.save(filename) #write page to png, save\n",
    "                myText_new = myText_new + pytesseract.image_to_string(filename) #re-OCR and save output to string \n",
    "                myText_new = myText_new + \"_NewPageBreak_\"\n",
    "                os.remove(filename) #delete png\n",
    "\n",
    "            #page 9\n",
    "            if numPages > 9:\n",
    "                pageObj = pdf.getPage(9)#read page\n",
    "                \n",
    "                #old ocr \n",
    "                myText_old = myText_old + pageObj.extractText()\n",
    "                myText_old = myText_old + \"_OldPageBreak_\"\n",
    "                \n",
    "                #new ocr\n",
    "                page = doc.load_page(9) #access specific page\n",
    "                pix = page.get_pixmap(matrix = (fitz.Matrix(4,4))) #getpixel map of page\n",
    "                filename = '{}{}{}'.format('temp_img_', 9, '.png') \n",
    "                pix.save(filename) #write page to png, save\n",
    "                myText_new = myText_new + pytesseract.image_to_string(filename) #re-OCR and save output to string \n",
    "                myText_new = myText_new + \"_NewPageBreak_\"\n",
    "                os.remove(filename) #delete png              \n",
    "\n",
    "            #encode phase\n",
    "            myText_old = myText_old.encode('utf-8') #encode to human-readable format\n",
    "            myText_new = myText_new.encode('utf-8') #encode to human-readable format\n",
    "        \n",
    "        except Exception:\n",
    "            traceback.print_exc()\n",
    "            myText_old = 'Error - Need to Manually Check.'\n",
    "            myText_new = 'Error - Need to Manually Check.'\n",
    "        \n",
    "        #package results\n",
    "        row =  {'C_ID': [C_ID,\n",
    "               'full_dir': [dir,\n",
    "               'old_ocr': [myText_old,\n",
    "               'new_ocr': [myText_new}\n",
    "\n",
    "        record = pd.DataFrame(row)\n",
    "\n",
    "        #send record to .csv\n",
    "        record.to_csv('ocr_10_page_extract.csv', mode='a', header=False, index=False)\n",
    "\n",
    "    return print('|INFO| extracted old_ocr and new_ocr 10 pages.')"
   ]
  },
  {
   "cell_type": "code",
   "execution_count": 8,
   "metadata": {},
   "outputs": [
    {
     "name": "stderr",
     "output_type": "stream",
     "text": [
      "9it [06:05, 39.22s/it]mupdf: invalid page object\n",
      "mupdf: invalid page object\n",
      "20it [13:44, 41.24s/it]"
     ]
    },
    {
     "name": "stdout",
     "output_type": "stream",
     "text": [
      "|INFO| extracted old_ocr and new_ocr 10 pages.\n"
     ]
    },
    {
     "name": "stderr",
     "output_type": "stream",
     "text": [
      "\n"
     ]
    }
   ],
   "source": [
    "#execute 10-page-extraction\n",
    "getListOfOCR(pdf_id,pdf_dirs)"
   ]
  },
  {
   "cell_type": "markdown",
   "metadata": {},
   "source": [
    "<a id='3.2.'></a>\n",
    "### 3.2 Split output by page break."
   ]
  },
  {
   "cell_type": "markdown",
   "metadata": {},
   "source": [
    "In the section below I post-process the extraction by splitting each old_ocr and new_ocr via my manually introduced \"OldPageBreak\" and \"NewPageBreak\". My page breaks were introduced during the extraction. \n",
    "\n",
    "The reason for this post processing is to allow the user to then specify how many pages of each document they're interested in looking at, as well as open the entire csv in excel, which was previously impossible due to excel's max cell length of 32,767 characters."
   ]
  },
  {
   "cell_type": "code",
   "execution_count": 9,
   "metadata": {},
   "outputs": [],
   "source": [
    "#split up ouptut by pagebreaks\n",
    "def ten_page_split():\n",
    "    df = pd.read_csv('ocr_10_page_extract.csv')\n",
    "\n",
    "    #make lists from df\n",
    "    c_id = df['c_id'.tolist()\n",
    "    pdf_dir = df['directory'.tolist()\n",
    "    old_ocr = df['old_ocr'.tolist()\n",
    "    new_ocr = df['new_ocr'].tolist()\n",
    "\n",
    "    #drop df from memory\n",
    "    df = None\n",
    "\n",
    "    #split items by _OldPageBreak_ and _NewPageBreak_ and pad output \n",
    "    temp_old_ocr = []\n",
    "    for doc in tqdm(old_ocr):\n",
    "        temp_list = doc.split('_OldPageBreak_')\n",
    "        temp_list_len = len(temp_list)\n",
    "        #if document length is less than 11, then pad it!\n",
    "        if temp_list_len < 11:\n",
    "            pad_count = 11 - temp_list_len\n",
    "            pad_list = list(pad_count*('[Pad]',)) #pad it relative length of document\n",
    "            temp_list_combined = temp_list + pad_list #join temp_list and padding\n",
    "            temp_old_ocr.append(temp_list_combined)\n",
    "        #if document of proper length, then simply append to temp_old_ocr\n",
    "        else:\n",
    "            temp_old_ocr.append(temp_list)\n",
    "\n",
    "    temp_new_ocr = []\n",
    "    for doc in tqdm(new_ocr):\n",
    "        temp_list = doc.split('_NewPageBreak_')\n",
    "        temp_list_len = len(temp_list)\n",
    "        #if document length is less than 11, then pad it!\n",
    "        if temp_list_len < 11:\n",
    "            pad_count = 11 - temp_list_len\n",
    "            pad_list = list(pad_count*('[Pad]',)) #pad it relative length of document\n",
    "            temp_list_combined = temp_list + pad_list #join temp_list and padding\n",
    "            temp_new_ocr.append(temp_list_combined)\n",
    "        #if document of proper length, then simply append to temp_old_ocr\n",
    "        else:\n",
    "            temp_new_ocr.append(temp_list)\n",
    "    \n",
    "    #send results to respective lists\n",
    "    old_page_1 = []\n",
    "    old_page_2 = []\n",
    "    old_page_3 = []\n",
    "    old_page_4 = []\n",
    "    old_page_5 = []\n",
    "    old_page_6 = []\n",
    "    old_page_7 = []\n",
    "    old_page_8 = []\n",
    "    old_page_9 = []\n",
    "    old_page_10 = []\n",
    "    old_page_11 = []\n",
    "\n",
    "    for doc in temp_old_ocr:\n",
    "        old_page_1.append(doc[0])\n",
    "        old_page_2.append(doc[1])\n",
    "        old_page_3.append(doc[2])\n",
    "        old_page_4.append(doc[3])\n",
    "        old_page_5.append(doc[4])\n",
    "        old_page_6.append(doc[5])\n",
    "        old_page_7.append(doc[6])\n",
    "        old_page_8.append(doc[7])\n",
    "        old_page_9.append(doc[8])\n",
    "        old_page_10.append(doc[9])\n",
    "        old_page_11.append(doc[10])\n",
    "\n",
    "    new_page_1 = []\n",
    "    new_page_2 = []\n",
    "    new_page_3 = []\n",
    "    new_page_4 = []\n",
    "    new_page_5 = []\n",
    "    new_page_6 = []\n",
    "    new_page_7 = []\n",
    "    new_page_8 = []\n",
    "    new_page_9 = []\n",
    "    new_page_10 = []\n",
    "    new_page_11 = []\n",
    "\n",
    "    for doc in temp_new_ocr:\n",
    "        new_page_1.append(doc[0])\n",
    "        new_page_2.append(doc[1])\n",
    "        new_page_3.append(doc[2])\n",
    "        new_page_4.append(doc[3])\n",
    "        new_page_5.append(doc[4])\n",
    "        new_page_6.append(doc[5])\n",
    "        new_page_7.append(doc[6])\n",
    "        new_page_8.append(doc[7])\n",
    "        new_page_9.append(doc[8])\n",
    "        new_page_10.append(doc[9])\n",
    "        new_page_11.append(doc[10])\n",
    "    \n",
    "    #add hyperlink column\n",
    "\n",
    "    #package everything into a df and then save as a csv.\n",
    "    df = pd.DataFrame({'c_id': c_id,\n",
    "    'pdf_dir': pdf_dir,\n",
    "    'old_page_1' : old_page_1,\n",
    "    'old_page_2' : old_page_2,\n",
    "    'old_page_3' : old_page_3,\n",
    "    'old_page_4' : old_page_4,\n",
    "    'old_page_5' : old_page_5,\n",
    "    'old_page_6' : old_page_6,\n",
    "    'old_page_7' : old_page_7,\n",
    "    'old_page_8' : old_page_8,\n",
    "    'old_page_9' : old_page_9,\n",
    "    'old_page_10' : old_page_10,\n",
    "    'old_page_11' : old_page_11,\n",
    "    'new_page_1' : new_page_1,\n",
    "    'new_page_2' : new_page_2,\n",
    "    'new_page_3' : new_page_3,\n",
    "    'new_page_4' : new_page_4,\n",
    "    'new_page_5' : new_page_5,\n",
    "    'new_page_6' : new_page_6,\n",
    "    'new_page_7' : new_page_7,\n",
    "    'new_page_8' : new_page_8,\n",
    "    'new_page_9' : new_page_9,\n",
    "    'new_page_10' : new_page_10,\n",
    "    'new_page_11' : new_page_11,\n",
    "    })\n",
    "\n",
    "    #save to csv\n",
    "    df.to_csv('ocr_10_page_extract_split_padded.csv', index=False)\n",
    "\n",
    "    return print('|INFO| split, padded and saved.')"
   ]
  },
  {
   "cell_type": "code",
   "execution_count": 10,
   "metadata": {},
   "outputs": [
    {
     "name": "stderr",
     "output_type": "stream",
     "text": [
      "100%|██████████| 40/40 [00:00<00:00, 40117.69it/s]\n",
      "100%|██████████| 40/40 [00:00<00:00, 40156.09it/s]"
     ]
    },
    {
     "name": "stdout",
     "output_type": "stream",
     "text": [
      "|INFO| split, padded and saved.\n"
     ]
    },
    {
     "name": "stderr",
     "output_type": "stream",
     "text": [
      "\n"
     ]
    }
   ],
   "source": [
    "#execute split\n",
    "ten_page_split()"
   ]
  },
  {
   "cell_type": "markdown",
   "metadata": {},
   "source": [
    "<a id='3.3'></a>\n",
    "### 3.3 Add hyperlink column to split output."
   ]
  },
  {
   "cell_type": "markdown",
   "metadata": {},
   "source": [
    "The below is a quality-of-life feature, a pdf hyperlink column for excel. "
   ]
  },
  {
   "cell_type": "code",
   "execution_count": 11,
   "metadata": {},
   "outputs": [],
   "source": [
    "#add hyperlink column to the split output csv\n",
    "def hyperlink():\n",
    "    #open file from previous step\n",
    "    df = pd.read_csv('ocr_10_page_extract_split_padded.csv')\n",
    "    \n",
    "    #make lists\n",
    "    c_id = df['c_id'].tolist()\n",
    "    pdf_dir = df['pdf_dir'].tolist()\n",
    "    old_page_1 = df['old_page_1'].tolist()\n",
    "    old_page_2 = df['old_page_2'].tolist()\n",
    "    old_page_3 = df['old_page_3'].tolist()\n",
    "    old_page_4 = df['old_page_4'].tolist()\n",
    "    old_page_5 = df['old_page_5'].tolist()\n",
    "    old_page_6 = df['old_page_6'].tolist()\n",
    "    old_page_7 = df['old_page_7'].tolist()\n",
    "    old_page_8 = df['old_page_8'].tolist()\n",
    "    old_page_9 = df['old_page_9'].tolist()\n",
    "    old_page_10 = df['old_page_10'].tolist()\n",
    "    old_page_11 = df['old_page_11'].tolist()\n",
    "    new_page_1 = df['new_page_1'].tolist()\n",
    "    new_page_2 = df['new_page_2'].tolist()\n",
    "    new_page_3 = df['new_page_3'].tolist()\n",
    "    new_page_4 = df['new_page_4'].tolist()\n",
    "    new_page_5 = df['new_page_5'].tolist()\n",
    "    new_page_6 = df['new_page_6'].tolist()\n",
    "    new_page_7 = df['new_page_7'].tolist()\n",
    "    new_page_8 = df['new_page_8'].tolist()\n",
    "    new_page_9 = df['new_page_9'].tolist()\n",
    "    new_page_10 = df['new_page_10'].tolist()\n",
    "    new_page_11 = df['new_page_11'].tolist()\n",
    "\n",
    "    #make pdf hyperlink column\n",
    "    hyperlink = []\n",
    "    for dir in pdf_dir:\n",
    "        lnk = '{}{}{}'.format('=HYPERLINK(SUBSTITUTE(\"', dir, '\", \"/\", \"\\\\\"), \"link\")')\n",
    "        hyperlink.append(lnk)\n",
    "\n",
    "    #package results\n",
    "    df = pd.DataFrame({'c_id': c_id,\n",
    "                       'hyperlink': hyperlink,\n",
    "                       'pdf_dir': pdf_dir,\n",
    "                       'old_page_1':old_page_1,\n",
    "                       'old_page_2':old_page_2,\n",
    "                       'old_page_3':old_page_3,\n",
    "                       'old_page_4':old_page_4,\n",
    "                       'old_page_5':old_page_5,\n",
    "                       'old_page_6':old_page_6,\n",
    "                       'old_page_7':old_page_7,\n",
    "                       'old_page_8':old_page_8,\n",
    "                       'old_page_9':old_page_9,\n",
    "                       'old_page_10':old_page_10,\n",
    "                       'old_page_11':old_page_11,\n",
    "                       'new_page_1':new_page_1,\n",
    "                       'new_page_2':new_page_2,\n",
    "                       'new_page_3':new_page_3,\n",
    "                       'new_page_4':new_page_4,\n",
    "                       'new_page_5':new_page_5,\n",
    "                       'new_page_6':new_page_6,\n",
    "                       'new_page_7':new_page_7,\n",
    "                       'new_page_8':new_page_8,\n",
    "                       'new_page_9':new_page_9,\n",
    "                       'new_page_10':new_page_10,\n",
    "                       'new_page_11':new_page_11})\n",
    "    #save to csv\n",
    "    df.to_csv('ocr_10_page_output_split_padded_link.csv')\n",
    "\n",
    "    print('|Info| added hyperlink column.')"
   ]
  },
  {
   "cell_type": "code",
   "execution_count": 12,
   "metadata": {},
   "outputs": [
    {
     "name": "stdout",
     "output_type": "stream",
     "text": [
      "|Info| added hyperlink column.\n"
     ]
    }
   ],
   "source": [
    "#execute function\n",
    "hyperlink()"
   ]
  },
  {
   "cell_type": "markdown",
   "metadata": {},
   "source": [
    "<a id='4.1'></a>\n",
    "### 4.1 Variable Definitions"
   ]
  },
  {
   "cell_type": "markdown",
   "metadata": {},
   "source": [
    "4. Variable -\tDefinition:\n",
    "\n",
    "    old_word_count -\tCount of words in old_ocr of document\n",
    "\n",
    "    new_word_count -\tCount of words in new_ocr of document\n",
    "\n",
    "    old_punc_count -    Count of puncs in old_ocr of document\n",
    "\n",
    "    new_punc_count -    Count of puncs in new_ocr of document\n",
    "\n",
    "    old_char_count -    Count of puncs in old_ocr of document\n",
    "\n",
    "    new_char_count -    Count of puncs in new_ocr of document"
   ]
  },
  {
   "cell_type": "markdown",
   "metadata": {},
   "source": [
    "<a id='5.1'></a>\n",
    "### 5.1 Variable Summary Statistics"
   ]
  },
  {
   "cell_type": "code",
   "execution_count": 13,
   "metadata": {},
   "outputs": [],
   "source": [
    "#generate word count of each doc's old_ocr and new_ocr\n",
    "def countwords():\n",
    "    #load non-split output\n",
    "    df = pd.read_csv('ocr_10_page_extract.csv')\n",
    "\n",
    "    #generate lists\n",
    "    old_ocr = df['old_ocr'].tolist()\n",
    "    new_ocr = df['new_ocr'].tolist()\n",
    "    old_word_count = []\n",
    "    new_word_count = []\n",
    "\n",
    "    #calculate word counts\n",
    "    for old, new in zip(old_ocr, new_ocr):\n",
    "        #split docs into lists by word\n",
    "        temp_old_words = old.split()\n",
    "        temp_new_words = new.split()\n",
    "        #calculate number of words\n",
    "        temp_old_count = len(temp_old_words)\n",
    "        temp_new_count = len(temp_new_words)\n",
    "        #append count to lists\n",
    "        old_word_count.append(temp_old_count)\n",
    "        new_word_count.append(temp_new_count)\n",
    "    \n",
    "    #send results to df\n",
    "    df['old_word_count'] = old_word_count\n",
    "    df['new_word_count'] = new_word_count\n",
    "    \n",
    "    #save results to csv\n",
    "    df.to_csv('ocr_10_page_extract_word.csv', index=False)\n",
    "\n",
    "    print('|Info| Calculated word count of docs and saved new csv.')\n"
   ]
  },
  {
   "cell_type": "code",
   "execution_count": 14,
   "metadata": {},
   "outputs": [
    {
     "name": "stdout",
     "output_type": "stream",
     "text": [
      "|Info| Calculated word count of docs and saved new csv.\n"
     ]
    }
   ],
   "source": [
    "#execute countwords()\n",
    "countwords()"
   ]
  },
  {
   "cell_type": "code",
   "execution_count": 15,
   "metadata": {},
   "outputs": [],
   "source": [
    "#generate punctuation count of each doc's old_ocr and new_ocr\n",
    "def countpuncs():\n",
    "    #load non-split output\n",
    "    df = pd.read_csv('ocr_10_page_extract_word.csv')\n",
    "\n",
    "    #generate lists\n",
    "    old_ocr = df['old_ocr'].tolist()\n",
    "    new_ocr = df['new_ocr'].tolist()\n",
    "    old_punc_count = []\n",
    "    new_punc_count = []\n",
    "\n",
    "    #calculate word counts\n",
    "    for old, new in zip(old_ocr, new_ocr):\n",
    "        temp_old_punc = 0\n",
    "        temp_new_punc = 0\n",
    "\n",
    "        #generate counts\n",
    "        for i in range(0,len(old)):\n",
    "            #check if punc\n",
    "            if old[i] in('!', \",\" ,\"\\'\" ,\";\" ,\"\\\"\", \".\", \"-\" ,\"?\"):\n",
    "                temp_old_punc += 1\n",
    "        #send results to list\n",
    "        old_punc_count.append(temp_old_punc)\n",
    "\n",
    "        for i in range(0,len(new)):\n",
    "            #check if punc\n",
    "            if new[i] in('!', \",\" ,\"\\'\" ,\";\" ,\"\\\"\", \".\", \"-\" ,\"?\"):\n",
    "                temp_new_punc += 1\n",
    "        #send results to list\n",
    "        new_punc_count.append(temp_new_punc)\n",
    "        \n",
    "    #send results to df\n",
    "    df['old_punc_count'] = old_punc_count\n",
    "    df['new_punc_count'] = new_punc_count\n",
    "    \n",
    "    #save results to csv\n",
    "    df.to_csv('ocr_10_page_extract_word_punc.csv', index=False)\n",
    "\n",
    "    print('|Info| Calculated punc count of docs and saved new csv.')"
   ]
  },
  {
   "cell_type": "code",
   "execution_count": 16,
   "metadata": {},
   "outputs": [],
   "source": [
    "#generate count of characters in each document's old_ocr and new_ocr\n",
    "#generate punctuation count of each doc's old_ocr and new_ocr\n",
    "def countchar():\n",
    "    #load non-split output\n",
    "    df = pd.read_csv('ocr_10_page_extract_word_punc.csv')\n",
    "\n",
    "    #generate lists\n",
    "    old_ocr = df['old_ocr'].tolist()\n",
    "    new_ocr = df['new_ocr'].tolist()\n",
    "    old_char_count = []\n",
    "    new_char_count = []\n",
    "\n",
    "    #calculate word counts\n",
    "    for old, new in zip(old_ocr, new_ocr):\n",
    "        temp_old_char = 0\n",
    "        temp_new_char = 0\n",
    "\n",
    "        for char in old:\n",
    "            temp_old_char += 1\n",
    "        \n",
    "        old_char_count.append(temp_old_char)\n",
    "\n",
    "        for char in new:\n",
    "            temp_new_char += 1\n",
    "        \n",
    "        new_char_count.append(temp_new_char)\n",
    "    \n",
    "    #send results to df\n",
    "    df['old_char_count'] = old_char_count\n",
    "    df['new_char_count'] = new_char_count\n",
    "\n",
    "    #save results to csv\n",
    "    df.to_csv('ocr_10_page_extract_word_punc_char.csv', index=False)\n",
    "\n",
    "    print('|Info| Calculated character count of docs and saved new csv.')"
   ]
  },
  {
   "cell_type": "code",
   "execution_count": 17,
   "metadata": {},
   "outputs": [
    {
     "name": "stdout",
     "output_type": "stream",
     "text": [
      "|Info| Calculated character count of docs and saved new csv.\n"
     ]
    }
   ],
   "source": [
    "#execute countchar()\n",
    "countchar()"
   ]
  },
  {
   "cell_type": "code",
   "execution_count": 18,
   "metadata": {},
   "outputs": [
    {
     "name": "stdout",
     "output_type": "stream",
     "text": [
      "Table 2:\n",
      "old_word_count min: 1\n",
      "old_word_count max: 3835\n",
      "old_word_count mean: 1012.0\n",
      "old_word_count stdev: 1027.0103263971184\n",
      "-\n",
      "new_word_count min: 164\n",
      "new_word_count max: 3564\n",
      "new_word_count mean: 1386.7\n",
      "new_word_count stdev: 714.3668599020505\n",
      "-\n",
      "old_punc_count min: 2\n",
      "old_punc_count max: 2320\n",
      "old_punc_count mean: 292.45\n",
      "old_punc_count stdev: 548.1028980420604\n",
      "-\n",
      "new_punc_count min: 61\n",
      "new_punc_count max: 1179\n",
      "new_punc_count mean: 268.05\n",
      "new_punc_count stdev: 255.50826024344414\n",
      "-\n",
      "old_char_count min: 143\n",
      "old_char_count max: 27069\n",
      "old_char_count mean: 7659.8\n",
      "old_char_count stdev: 7542.022467830705\n",
      "-\n",
      "new_char_count min: 984\n",
      "new_char_count max: 25624\n",
      "new_char_count mean: 11219.25\n",
      "new_char_count stdev: 5220.275692205497\n",
      "-\n"
     ]
    }
   ],
   "source": [
    "#populate summary statistics table:\n",
    "import statistics\n",
    "\n",
    "#load previous csv\n",
    "df = pd.read_csv('ocr_10_page_extract_word_punc_char.csv')\n",
    "\n",
    "#generate variable lists\n",
    "old_word_count = df['old_word_count'].tolist()\n",
    "new_word_count = df['new_word_count'].tolist()\n",
    "old_punc_count = df['old_punc_count'].tolist()\n",
    "new_punc_count = df['new_punc_count'].tolist()\n",
    "old_char_count = df['old_char_count'].tolist()\n",
    "new_char_count = df['new_char_count'].tolist()\n",
    "\n",
    "#print stats\n",
    "print('Table 2:')\n",
    "print('old_word_count min: '+str(min(old_word_count)))\n",
    "print('old_word_count max: '+str(max(old_word_count)))\n",
    "print('old_word_count mean: '+str((sum(old_word_count)/len(old_word_count))))\n",
    "print('old_word_count stdev: '+str(statistics.stdev(old_word_count)))\n",
    "print('-')\n",
    "print('new_word_count min: '+str(min(new_word_count)))\n",
    "print('new_word_count max: '+str(max(new_word_count)))\n",
    "print('new_word_count mean: '+str((sum(new_word_count)/len(new_word_count))))\n",
    "print('new_word_count stdev: '+str(statistics.stdev(new_word_count)))\n",
    "print('-')\n",
    "print('old_punc_count min: '+str(min(old_punc_count)))\n",
    "print('old_punc_count max: '+str(max(old_punc_count)))\n",
    "print('old_punc_count mean: '+str((sum(old_punc_count)/len(old_punc_count))))\n",
    "print('old_punc_count stdev: '+str(statistics.stdev(old_punc_count)))\n",
    "print('-')\n",
    "print('new_punc_count min: '+str(min(new_punc_count)))\n",
    "print('new_punc_count max: '+str(max(new_punc_count)))\n",
    "print('new_punc_count mean: '+str((sum(new_punc_count)/len(new_punc_count))))\n",
    "print('new_punc_count stdev: '+str(statistics.stdev(new_punc_count)))\n",
    "print('-')\n",
    "print('old_char_count min: '+str(min(old_char_count)))\n",
    "print('old_char_count max: '+str(max(old_char_count)))\n",
    "print('old_char_count mean: '+str((sum(old_char_count)/len(old_char_count))))\n",
    "print('old_char_count stdev: '+str(statistics.stdev(old_char_count)))\n",
    "print('-')\n",
    "print('new_char_count min: '+str(min(new_char_count)))\n",
    "print('new_char_count max: '+str(max(new_char_count)))\n",
    "print('new_char_count mean: '+str((sum(new_char_count)/len(new_char_count))))\n",
    "print('new_char_count stdev: '+str(statistics.stdev(new_char_count)))\n",
    "print('-')"
   ]
  },
  {
   "cell_type": "markdown",
   "metadata": {},
   "source": [
    "<a id='6.1'></a>\n",
    "### 6.1 Visualization of a dependent variable"
   ]
  },
  {
   "cell_type": "code",
   "execution_count": 19,
   "metadata": {},
   "outputs": [
    {
     "data": {
      "image/png": "[encoded data removed]",
      "text/plain": [
       "<Figure size 432x288 with 1 Axes>"
      ]
     },
     "metadata": {
      "needs_background": "light"
     },
     "output_type": "display_data"
    }
   ],
   "source": [
    "import matplotlib.pyplot as plt\n",
    "\n",
    "#sort stuff\n",
    "old_word_count.sort()\n",
    "#build plot\n",
    "plt.hist(old_word_count,bins=21)\n",
    "plt.xlabel('number of words')\n",
    "plt.ylabel('doc count')\n",
    "plt.title('Count of words in original ocr of documents.')\n",
    "plt.show()"
   ]
  },
  {
   "cell_type": "markdown",
   "metadata": {},
   "source": [
    "<a id='7.1'></a>\n",
    "### 7.1 Visualization summary"
   ]
  },
  {
   "cell_type": "markdown",
   "metadata": {},
   "source": [
    "The above visualization depicts the count of words per document in the original ocr. Note, there are outliers in this output. Some of the extractions did not go in as planned. Seven documents have a very low word counts, which is unlikely and probablly a result of poor pdf metadata."
   ]
  },
  {
   "cell_type": "markdown",
   "metadata": {},
   "source": [
    "<a id='8.1'></a>\n",
    "### 8.1 Visualization of a independent variable"
   ]
  },
  {
   "cell_type": "code",
   "execution_count": 20,
   "metadata": {},
   "outputs": [
    {
     "data": {
      "image/png": "[encoded data removed]",
      "text/plain": [
       "<Figure size 432x288 with 1 Axes>"
      ]
     },
     "metadata": {
      "needs_background": "light"
     },
     "output_type": "display_data"
    }
   ],
   "source": [
    "#sort stuff\n",
    "old_punc_count.sort()\n",
    "#build plot\n",
    "plt.hist(old_punc_count,bins=21)\n",
    "plt.xlabel('number of punctuation marks')\n",
    "plt.ylabel('doc count')\n",
    "plt.title('Count of punctuation marks in original ocr of documents.')\n",
    "plt.show()"
   ]
  },
  {
   "cell_type": "markdown",
   "metadata": {},
   "source": [
    "<a id='9.1'></a>\n",
    "### 9.1 Visualization summary 2"
   ]
  },
  {
   "cell_type": "markdown",
   "metadata": {},
   "source": [
    "The above visualization depicts the count of punctuation per document in the original ocr. Note like in the previous viz,several documents have a very low counts, which is unlikely and probablly a result of poor pdf metadata."
   ]
  },
  {
   "cell_type": "markdown",
   "metadata": {},
   "source": [
    "<a id='10.1'></a>\n",
    "### 10.1 Bivariate relationship"
   ]
  },
  {
   "cell_type": "code",
   "execution_count": 21,
   "metadata": {},
   "outputs": [
    {
     "data": {
      "image/png": "[encoded data removed]",
      "text/plain": [
       "<Figure size 432x288 with 1 Axes>"
      ]
     },
     "metadata": {
      "needs_background": "light"
     },
     "output_type": "display_data"
    }
   ],
   "source": [
    "#build plot\n",
    "plt.scatter(old_word_count,old_punc_count)\n",
    "plt.xlabel('old_word_count')\n",
    "plt.ylabel('old_punc_count')\n",
    "plt.title('Scatter of old word count and punctuation')\n",
    "plt.show()"
   ]
  },
  {
   "cell_type": "markdown",
   "metadata": {},
   "source": [
    "<a id='11.1'></a>\n",
    "### 11.1 Visualization summary 3"
   ]
  },
  {
   "cell_type": "markdown",
   "metadata": {},
   "source": [
    "The above depicts what appears to ba  non-linear relationship between word count and punctuation count. "
   ]
  },
  {
   "cell_type": "markdown",
   "metadata": {},
   "source": [
    "<a id='12.1'></a>\n",
    "### 12.1 Run bivarite regression of above dependent and independent variable."
   ]
  },
  {
   "cell_type": "code",
   "execution_count": 16,
   "metadata": {},
   "outputs": [
    {
     "name": "stdout",
     "output_type": "stream",
     "text": [
      "                            OLS Regression Results                            \n",
      "==============================================================================\n",
      "Dep. Variable:         old_punc_count   R-squared:                       0.805\n",
      "Model:                            OLS   Adj. R-squared:                  0.795\n",
      "Method:                 Least Squares   F-statistic:                     74.53\n",
      "Date:                Mon, 13 Dec 2021   Prob (F-statistic):           8.15e-08\n",
      "Time:                        06:38:37   Log-Likelihood:                -137.62\n",
      "No. Observations:                  20   AIC:                             279.2\n",
      "Df Residuals:                      18   BIC:                             281.2\n",
      "Df Model:                           1                                         \n",
      "Covariance Type:            nonrobust                                         \n",
      "==================================================================================\n",
      "                     coef    std err          t      P>|t|      [0.025      0.975]\n",
      "----------------------------------------------------------------------------------\n",
      "const           -192.2728     78.973     -2.435      0.026    -358.188     -26.357\n",
      "old_word_count     0.4790      0.055      8.633      0.000       0.362       0.596\n",
      "==============================================================================\n",
      "Omnibus:                        6.193   Durbin-Watson:                   1.793\n",
      "Prob(Omnibus):                  0.045   Jarque-Bera (JB):                3.818\n",
      "Skew:                           0.983   Prob(JB):                        0.148\n",
      "Kurtosis:                       3.845   Cond. No.                     2.02e+03\n",
      "==============================================================================\n",
      "\n",
      "Notes:\n",
      "[1] Standard Errors assume that the covariance matrix of the errors is correctly specified.\n",
      "[2] The condition number is large, 2.02e+03. This might indicate that there are\n",
      "strong multicollinearity or other numerical problems.\n"
     ]
    }
   ],
   "source": [
    "#run bivariate model\n",
    "import statsmodels.api as sm\n",
    "\n",
    "df = pd.read_csv('ocr_10_page_extract_word_punc_char.csv')\n",
    "y = df[['old_punc_count']]\n",
    "x = df[['old_word_count']]\n",
    "x = sm.add_constant(x)\n",
    "\n",
    "#fit linear reg model\n",
    "model = sm.OLS(y,x).fit()\n",
    "\n",
    "#view model summary\n",
    "print(model.summary())"
   ]
  },
  {
   "cell_type": "code",
   "execution_count": 17,
   "metadata": {},
   "outputs": [
    {
     "name": "stdout",
     "output_type": "stream",
     "text": [
      "                            OLS Regression Results                            \n",
      "==============================================================================\n",
      "Dep. Variable:         old_punc_count   R-squared:                       0.885\n",
      "Model:                            OLS   Adj. R-squared:                  0.864\n",
      "Method:                 Least Squares   F-statistic:                     41.08\n",
      "Date:                Mon, 13 Dec 2021   Prob (F-statistic):           9.61e-08\n",
      "Time:                        06:38:42   Log-Likelihood:                -132.36\n",
      "No. Observations:                  20   AIC:                             272.7\n",
      "Df Residuals:                      16   BIC:                             276.7\n",
      "Df Model:                           3                                         \n",
      "Covariance Type:            nonrobust                                         \n",
      "==================================================================================\n",
      "                     coef    std err          t      P>|t|      [0.025      0.975]\n",
      "----------------------------------------------------------------------------------\n",
      "const            -92.8082     72.732     -1.276      0.220    -246.993      61.376\n",
      "old_word_count     0.3975      0.222      1.794      0.092      -0.072       0.867\n",
      "old_char_count     0.0306      0.031      1.001      0.332      -0.034       0.095\n",
      "lots_of_punc    -418.7926    127.009     -3.297      0.005    -688.040    -149.545\n",
      "==============================================================================\n",
      "Omnibus:                        5.226   Durbin-Watson:                   1.583\n",
      "Prob(Omnibus):                  0.073   Jarque-Bera (JB):                3.951\n",
      "Skew:                          -0.193   Prob(JB):                        0.139\n",
      "Kurtosis:                       5.143   Cond. No.                     3.13e+04\n",
      "==============================================================================\n",
      "\n",
      "Notes:\n",
      "[1] Standard Errors assume that the covariance matrix of the errors is correctly specified.\n",
      "[2] The condition number is large, 3.13e+04. This might indicate that there are\n",
      "strong multicollinearity or other numerical problems.\n"
     ]
    }
   ],
   "source": [
    "#multivariate regression\n",
    "\n",
    "#load csv\n",
    "df = pd.read_csv('ocr_10_page_extract_word_punc_char.csv')\n",
    "old_punc_count = df['old_punc_count'].tolist()\n",
    "\n",
    "#generate binary classifier, as a result of manual classification.\n",
    "#NOTE: more on this decision in my Closing Thoghts section (#18.1)\n",
    "#for demonstration of understanding I built a simple binary classifier \n",
    "#that divides the dataset into two parts, lots of punctuation (1) and not (0).\n",
    "\n",
    "lots_of_punc = []\n",
    "for doc in old_punc_count:\n",
    "    if doc > 100:\n",
    "        lots_of_punc.append(1)\n",
    "    else:\n",
    "        lots_of_punc.append(0)\n",
    "\n",
    "df['lots_of_punc'] = lots_of_punc\n",
    "\n",
    "#build model\n",
    "y = df[['old_punc_count']]\n",
    "x = df[['old_word_count','old_char_count','lots_of_punc']]\n",
    "x = sm.add_constant(x)\n",
    "\n",
    "#fit linear reg model\n",
    "model = sm.OLS(y,x).fit()\n",
    "\n",
    "#view model summary\n",
    "print(model.summary())"
   ]
  },
  {
   "cell_type": "markdown",
   "metadata": {},
   "source": [
    "(I couldn't figure out how to make a table in ipynb)\n",
    "\n",
    "Table 3: Regression Results\n",
    "\n",
    "Dependent variable: old_punc_count (count of words in origional ocr)\n",
    "\n",
    "Independent Variable\tBivariate Model\t    Multivariate Model\n",
    "old_word_count             0.4790      \t\t\t0.3975\n",
    "\t\t\t\t\t\t   (0.06)               (0.21)\n",
    "old_char_count             \t\t\t\t        0.0306\n",
    "\t\t\t\t\t\t\t\t\t\t\t\t(0.02)\n",
    "  lots_of_punc                                  -418.78\n",
    "\t  \t\t\t\t\t\t\t\t\t\t\t(126.99)"
   ]
  },
  {
   "cell_type": "markdown",
   "metadata": {},
   "source": [
    "<a id='13.1'></a>\n",
    "### 13.1 Control variable justification"
   ]
  },
  {
   "cell_type": "markdown",
   "metadata": {},
   "source": [
    "My control variable's purpose, in the context of this dataset, is to assist in giving the user information on\n",
    "if the document has a lot of punctuation or not. This is based on a calculation the user makes, which is consistent across individual records. Perhaps future work could include classification beyond 1 and 0. Specifically, including more classifiers, 0.1, 0.2, 0.3, etc."
   ]
  },
  {
   "cell_type": "markdown",
   "metadata": {},
   "source": [
    "<a id='14.1'></a>\n",
    "### 14.1 Interpret the independent bivariate variable"
   ]
  },
  {
   "cell_type": "markdown",
   "metadata": {},
   "source": [
    "An increase in punctuation count by one point results in an increase of word count by 47 points. Also, the chance this result is produced by random chance is less than 1 in 1000.  "
   ]
  },
  {
   "cell_type": "markdown",
   "metadata": {},
   "source": [
    "<a id='15.1'></a>\n",
    "### 15.1 Interpret the independent multivariate variable"
   ]
  },
  {
   "cell_type": "markdown",
   "metadata": {},
   "source": [
    "Interestingly, in adding character count to the independent variable pool, along with word count we see the model break down. We're observing several orders of magnitude in reduction of significance, the result is now produced by random chance in 1 in 10."
   ]
  },
  {
   "cell_type": "markdown",
   "metadata": {},
   "source": [
    "<a id='16.1'></a>\n",
    "### 16.1 Conduct a hypothesis test with the multivariate model"
   ]
  },
  {
   "cell_type": "markdown",
   "metadata": {},
   "source": [
    "Ho: word count does not predict punctuation count.\n",
    "\n",
    "Ha: word count predicts punctuation count. \n",
    "\n",
    "t-score: 1.794\n",
    "\n",
    "Result of the test: we do not reject Ho but this does not necessarily mean we should accept it. In our bivariate model we see data to challenge this result. "
   ]
  },
  {
   "cell_type": "markdown",
   "metadata": {},
   "source": [
    "<a id='17.1'></a>\n",
    "### 17.1 Overall findings"
   ]
  },
  {
   "cell_type": "markdown",
   "metadata": {},
   "source": [
    "From my analysis I can confidently say that the subtilities in feature selection is a learned skill, one that comes though hours of practice and study. While I'm not entirely confident on my multivariate analysis, I think I am with my observations of the bivariate model. \n",
    "\n",
    "It makes sense that the two variables, word count and punctuation count, would be correlated. Perhaps not in a linear sence, but more of a exponential? At least from my prelimary plots that's what it looks like. If I had more documents and +10 page extractions I'm confident I'd be able to provide evidence of this. "
   ]
  },
  {
   "cell_type": "markdown",
   "metadata": {},
   "source": [
    "\n",
    "<a id='18.1'></a>\n",
    "### 18.1 Closing thoughts:"
   ]
  },
  {
   "cell_type": "markdown",
   "metadata": {},
   "source": [
    "There is a lot left unfished.\n",
    "\n",
    "Exploring a true, complete, horizontal scaling of the script is at the top of that list. The main limiting factor preventing that is cost. Hosting such a thing on, say AWS for example, would cost hundreds of dollars. As a student I cannot make that happen. With that said however, I've nevertheless designed my code to be theoretically capable of being deployed relative to a computer’s core count. Meaning, if a cpu had 8 cores you could run up to ~6/7 instances of the extraction, indexed at different positions of the pdf list. This would result in reduced processing time. \n",
    "\n",
    "The second item on that list is to use the extraction in a formal document classification problem. This is a data access issue, as thousands of pdfs would be required to build the statistical strength in such a thing. I have a work project soon where I plan to do just this, and I'm looking forward to using this project’s framework to complete it.\n",
    "\n",
    "Finally, I'd like to say I learned a lot from what I was able to accomplish. I've recognized I struggle with the classic statistics side of things, but with that aside this class has lit an unquenchable computer science fire in me and I thank you for that!\n",
    "\n",
    "All my best,\n",
    "\n",
    "-Carl"
   ]
  }
 ],
 "metadata": {
  "interpreter": {
   "hash": "7f74bc8b432c83d9862b72d067c68c4609a2456290e5f15b7c0a3cee58a3c96e"
  },
  "kernelspec": {
   "display_name": "Python 3.8.12 64-bit ('pytorch_gpu': conda)",
   "language": "python",
   "name": "python3"
  },
  "language_info": {
   "codemirror_mode": {
    "name": "ipython",
    "version": 3
   },
   "file_extension": ".py",
   "mimetype": "text/x-python",
   "name": "python",
   "nbconvert_exporter": "python",
   "pygments_lexer": "ipython3",
   "version": "3.8.12"
  },
  "orig_nbformat": 4
 },
 "nbformat": 4,
 "nbformat_minor": 2
}
